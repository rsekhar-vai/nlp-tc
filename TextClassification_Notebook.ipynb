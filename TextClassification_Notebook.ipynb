{
  "nbformat": 4,
  "nbformat_minor": 0,
  "metadata": {
    "colab": {
      "name": "TextClassification - Notebook ",
      "provenance": [],
      "collapsed_sections": [],
      "authorship_tag": "ABX9TyNOgMPBnzvRpaLS/xXkZz3m",
      "include_colab_link": true
    },
    "kernelspec": {
      "name": "python3",
      "display_name": "Python 3"
    },
    "accelerator": "GPU"
  },
  "cells": [
    {
      "cell_type": "markdown",
      "metadata": {
        "id": "view-in-github",
        "colab_type": "text"
      },
      "source": [
        "<a href=\"https://colab.research.google.com/github/rsekhar-vai/nlptc/blob/master/TextClassification_Notebook.ipynb\" target=\"_parent\"><img src=\"https://colab.research.google.com/assets/colab-badge.svg\" alt=\"Open In Colab\"/></a>"
      ]
    },
    {
      "cell_type": "markdown",
      "metadata": {
        "id": "iK41J9S1tbFM",
        "colab_type": "text"
      },
      "source": [
        "## Setup the Environment"
      ]
    },
    {
      "cell_type": "code",
      "metadata": {
        "id": "Rgv7Zkdxk_Rs",
        "colab_type": "code",
        "colab": {}
      },
      "source": [
        "%load_ext autoreload"
      ],
      "execution_count": 0,
      "outputs": []
    },
    {
      "cell_type": "code",
      "metadata": {
        "id": "DhK0DzDxpYMR",
        "colab_type": "code",
        "outputId": "63fcd9b1-a24b-492b-9987-7d8a02efa90f",
        "colab": {
          "base_uri": "https://localhost:8080/",
          "height": 136
        }
      },
      "source": [
        "!rm -r nlptc\n",
        "!git clone https://github.com/rsekhar-vai/nlptc.git"
      ],
      "execution_count": 0,
      "outputs": [
        {
          "output_type": "stream",
          "text": [
            "Cloning into 'nlptc'...\n",
            "remote: Enumerating objects: 138, done.\u001b[K\n",
            "remote: Counting objects: 100% (138/138), done.\u001b[K\n",
            "remote: Compressing objects: 100% (113/113), done.\u001b[K\n",
            "remote: Total 138 (delta 66), reused 43 (delta 15), pack-reused 0\u001b[K\n",
            "Receiving objects: 100% (138/138), 3.64 MiB | 3.88 MiB/s, done.\n",
            "Resolving deltas: 100% (66/66), done.\n"
          ],
          "name": "stdout"
        }
      ]
    },
    {
      "cell_type": "code",
      "metadata": {
        "id": "5hmsXqGgBX43",
        "colab_type": "code",
        "outputId": "92ed5f44-149d-43b6-83c7-7a8fbbcb8ad0",
        "colab": {
          "base_uri": "https://localhost:8080/",
          "height": 187
        }
      },
      "source": [
        "!ls nlptc -R"
      ],
      "execution_count": 0,
      "outputs": [
        {
          "output_type": "stream",
          "text": [
            "nlptc:\n",
            " data\t       models.py\t\t\t\t   utilclasses.py\n",
            " __init__.py   README.md\t\t\t\t   utilfunctions.py\n",
            "'Model Repo'   TextClassification_Jupyter_Notebook.ipynb\n",
            "\n",
            "nlptc/data:\n",
            "init  news.csv\tsample_submission.csv  test.csv  train.csv\n",
            "\n",
            "'nlptc/Model Repo':\n",
            "CharCNN_Simple.py  ConvRec_BiLSTM.py  __init__.py  VDCNN.py\n"
          ],
          "name": "stdout"
        }
      ]
    },
    {
      "cell_type": "code",
      "metadata": {
        "id": "eknF2zAupmQQ",
        "colab_type": "code",
        "outputId": "85bd9e03-96c3-45cf-a6e0-6438bd03f507",
        "colab": {
          "base_uri": "https://localhost:8080/",
          "height": 119
        }
      },
      "source": [
        "from argparse import Namespace\n",
        "from collections import Counter\n",
        "import json\n",
        "import os\n",
        "import re\n",
        "import string\n",
        "import numpy as np\n",
        "import pandas as pd\n",
        "import torch\n",
        "import torch.nn as nn\n",
        "import torch.nn.functional as F\n",
        "import torch.optim as optim\n",
        "from torch.utils.data import Dataset, DataLoader\n",
        "from tqdm import tqdm_notebook\n",
        "from sklearn import preprocessing\n",
        "from sklearn.model_selection import train_test_split\n",
        "import sys\n",
        "import spacy\n",
        "import torchtext\n",
        "from torchtext import data\n",
        "from torchtext.data import Field, BucketIterator\n",
        "from torchtext import vocab\n",
        "\n",
        "\n",
        "print('Python version:',sys.version)\n",
        "print('Pandas version:',pd.__version__)\n",
        "print('Pytorch version:', torch.__version__)\n",
        "print('Torch Text version:', torchtext.__version__)\n",
        "print('Spacy version:', spacy.__version__)\n"
      ],
      "execution_count": 0,
      "outputs": [
        {
          "output_type": "stream",
          "text": [
            "Python version: 3.6.9 (default, Nov  7 2019, 10:44:02) \n",
            "[GCC 8.3.0]\n",
            "Pandas version: 1.0.3\n",
            "Pytorch version: 1.4.0\n",
            "Torch Text version: 0.3.1\n",
            "Spacy version: 2.2.4\n"
          ],
          "name": "stdout"
        }
      ]
    },
    {
      "cell_type": "code",
      "metadata": {
        "id": "inC1xAgJoUiR",
        "colab_type": "code",
        "colab": {}
      },
      "source": [
        "  args = Namespace(\n",
        "      text_csv=\"nlptc/data/news.csv\",\n",
        "      train_csv=\"nlptc/data/train.csv\",\n",
        "      val_csv=\"nlptc/data/val.csv\",\n",
        "      test_csv=\"nlptc/data/test.csv\",\n",
        "      model_state_file=\"model.pth\",\n",
        "      save_dir=\"model_storage/Clf\",\n",
        "      glove_filepath='D:\\\\Projects\\\\Text Analytics\\\\Glove\\\\glove.6B.100d.txt',\n",
        "      hidden_dim=100,\n",
        "      num_channels=100,\n",
        "      seed=1337,\n",
        "      learning_rate=0.001,\n",
        "      dropout_p=0.1,\n",
        "      batch_size=64,\n",
        "      num_epochs=20,\n",
        "      early_stopping_criteria=5,\n",
        "      cuda=True,\n",
        "      catch_keyboard_interrupt=True,\n",
        "      reload_from_files=False,\n",
        "      expand_filepaths_to_save_dir=True,\n",
        "      token_type = 'w',\n",
        "      max_text_length = 256,\n",
        "      pretrained_embeddings= 'Glove',\n",
        "      embedding_size=100,\n",
        "  )"
      ],
      "execution_count": 0,
      "outputs": []
    },
    {
      "cell_type": "code",
      "metadata": {
        "id": "c9vnHN-xoqL9",
        "colab_type": "code",
        "outputId": "5cfebc4e-0e49-4c73-f502-dd8222493979",
        "colab": {
          "base_uri": "https://localhost:8080/",
          "height": 85
        }
      },
      "source": [
        "from nlptc.utilclasses import *\n",
        "from nlptc.utilfunctions import *\n",
        "\n",
        "setup_environment(args)\n"
      ],
      "execution_count": 0,
      "outputs": [
        {
          "output_type": "stream",
          "text": [
            "Expanded filepaths: \n",
            "\tmodel_storage/Clf/vectorizer.json\n",
            "\tmodel_storage/Clf/model.pth\n",
            "Using CUDA: True\n"
          ],
          "name": "stdout"
        }
      ]
    },
    {
      "cell_type": "markdown",
      "metadata": {
        "id": "i3LQT9-ct_qA",
        "colab_type": "text"
      },
      "source": [
        "# Read Data file and split into Train, Validation and Test\n",
        "Text data file should have columns named as 'text' and 'category'. If the names are different, they should be renamed before processing further"
      ]
    },
    {
      "cell_type": "code",
      "metadata": {
        "id": "qdqEPUDYpVnU",
        "colab_type": "code",
        "outputId": "e6463370-0251-4fe2-c465-e1d5a8fb8dde",
        "colab": {
          "base_uri": "https://localhost:8080/",
          "height": 51
        }
      },
      "source": [
        "dataframe_data = pd.read_csv(args.text_csv)\n",
        "        \n",
        "max_text_length = 256,\n",
        "args.token_type = 'w'\n",
        "#text_df = pd.read_csv(args.text_csv)\n",
        "text_df_orig = pd.read_csv(args.text_csv)\n",
        "print(text_df_orig.columns)\n",
        "\n",
        "text_df_orig.rename(columns={'title':'text'},inplace=True)\n",
        "text_df = text_df_orig[['text','category']] \n",
        "print(text_df.columns)\n",
        "\n",
        "dataset = TextDataset(text_df,args)\n",
        "train_df, val_df, test_df = dataset.get_splits()\n",
        "\n",
        "train_df.to_csv(args.train_csv, index=False)\n",
        "val_df.to_csv(args.val_csv, index=False)\n",
        "test_df.to_csv(args.test_csv, index=False)\n"
      ],
      "execution_count": 0,
      "outputs": [
        {
          "output_type": "stream",
          "text": [
            "Index(['title', 'category'], dtype='object')\n",
            "Index(['text', 'category'], dtype='object')\n"
          ],
          "name": "stdout"
        }
      ]
    },
    {
      "cell_type": "code",
      "metadata": {
        "id": "7lUgn56QpqL0",
        "colab_type": "code",
        "outputId": "11f163ee-f0c0-4e30-d46d-b3aeccfdeaac",
        "colab": {
          "base_uri": "https://localhost:8080/",
          "height": 204
        }
      },
      "source": [
        "train_df.head()"
      ],
      "execution_count": 0,
      "outputs": [
        {
          "output_type": "execute_result",
          "data": {
            "text/html": [
              "<div>\n",
              "<style scoped>\n",
              "    .dataframe tbody tr th:only-of-type {\n",
              "        vertical-align: middle;\n",
              "    }\n",
              "\n",
              "    .dataframe tbody tr th {\n",
              "        vertical-align: top;\n",
              "    }\n",
              "\n",
              "    .dataframe thead th {\n",
              "        text-align: right;\n",
              "    }\n",
              "</style>\n",
              "<table border=\"1\" class=\"dataframe\">\n",
              "  <thead>\n",
              "    <tr style=\"text-align: right;\">\n",
              "      <th></th>\n",
              "      <th>text</th>\n",
              "      <th>category</th>\n",
              "    </tr>\n",
              "  </thead>\n",
              "  <tbody>\n",
              "    <tr>\n",
              "      <th>83622</th>\n",
              "      <td>Iran Says Preliminary Nuclear Deal Reached wit...</td>\n",
              "      <td>World</td>\n",
              "    </tr>\n",
              "    <tr>\n",
              "      <th>71641</th>\n",
              "      <td>Powell, Japan #39;s Machimura Discuss Iraq, Af...</td>\n",
              "      <td>World</td>\n",
              "    </tr>\n",
              "    <tr>\n",
              "      <th>34791</th>\n",
              "      <td>China grabs software research deals despite risks</td>\n",
              "      <td>Sci/Tech</td>\n",
              "    </tr>\n",
              "    <tr>\n",
              "      <th>9430</th>\n",
              "      <td>Williams-Sonoma Profit Up; Keeps Forecast (Reu...</td>\n",
              "      <td>Business</td>\n",
              "    </tr>\n",
              "    <tr>\n",
              "      <th>116739</th>\n",
              "      <td>HIH inquiry claims its biggest scalp</td>\n",
              "      <td>Business</td>\n",
              "    </tr>\n",
              "  </tbody>\n",
              "</table>\n",
              "</div>"
            ],
            "text/plain": [
              "                                                     text  category\n",
              "83622   Iran Says Preliminary Nuclear Deal Reached wit...     World\n",
              "71641   Powell, Japan #39;s Machimura Discuss Iraq, Af...     World\n",
              "34791   China grabs software research deals despite risks  Sci/Tech\n",
              "9430    Williams-Sonoma Profit Up; Keeps Forecast (Reu...  Business\n",
              "116739               HIH inquiry claims its biggest scalp  Business"
            ]
          },
          "metadata": {
            "tags": []
          },
          "execution_count": 8
        }
      ]
    },
    {
      "cell_type": "markdown",
      "metadata": {
        "id": "fLb8wOozuR8z",
        "colab_type": "text"
      },
      "source": [
        "# Define TorchText Fields Variables and map them to Data file Columns\n",
        "TEXT variable maps to the text we will process. LABEL variable maps to Category associated with the TEXT.\n",
        "\n",
        "TEXT and LABEL are of type FIELD which is part of TorchText package. FIELD comes with many built in functions that help in simplifying proprocessing. For example we can pass tokenizer as the argument to TEXT. Using this, TorchText does automatic tokenization while parsing the Text File Columns\n",
        "\n",
        "\n"
      ]
    },
    {
      "cell_type": "code",
      "metadata": {
        "id": "P7hWe9xAqKPl",
        "colab_type": "code",
        "colab": {}
      },
      "source": [
        "nlp = spacy.load('en_core_web_sm',disable=[\"tagger\", \"parser\", \"ner\"])\n",
        "\n",
        "def tokenizer(sentence):\n",
        "    tokens = [w.text.lower() for w in nlp(clean_text(sentence))]\n",
        "    return tokens"
      ],
      "execution_count": 0,
      "outputs": []
    },
    {
      "cell_type": "code",
      "metadata": {
        "id": "sKij3AjQp35E",
        "colab_type": "code",
        "colab": {}
      },
      "source": [
        "Field_TEXT = data.Field(tokenize=tokenizer, sequential=True, \n",
        "                        use_vocab=True,batch_first=True,fix_length=args.max_text_length)\n",
        "Field_LABEL = data.LabelField(sequential=False)\n",
        "mapping_with_file_columns = [('text', Field_TEXT), ('category', Field_LABEL)]\n"
      ],
      "execution_count": 0,
      "outputs": []
    },
    {
      "cell_type": "markdown",
      "metadata": {
        "id": "YNUv-rrTxAww",
        "colab_type": "text"
      },
      "source": [
        "# Create TorchText Dataset wrappers around Train, Validation and Test Data files using the TorchText Field Variables\n",
        "TorchText Dataset is a wrapper around a normal data file. It comes with many build in functions that help simplify processing. Dataset wrapper needs the mapping between TorchText Fields and data file columns (as defined in the previous step) "
      ]
    },
    {
      "cell_type": "code",
      "metadata": {
        "id": "A5z9ujUHp5cd",
        "colab_type": "code",
        "outputId": "990dd166-db82-4d42-c129-3af48d80677d",
        "colab": {
          "base_uri": "https://localhost:8080/",
          "height": 34
        }
      },
      "source": [
        " Dataset_train, Dataset_val, Dataset_test = data.TabularDataset.splits(\n",
        "                                         path = '',\n",
        "                                         train = args.train_csv,\n",
        "                                         validation = args.val_csv,\n",
        "                                         test = args.test_csv,\n",
        "                                           format = 'csv',\n",
        "                                         fields = mapping_with_file_columns,\n",
        "                                         skip_header = True\n",
        "     )\n",
        "print(vars(Dataset_train[0]))\n"
      ],
      "execution_count": 0,
      "outputs": [
        {
          "output_type": "stream",
          "text": [
            "{'text': ['iran', 'says', 'preliminary', 'nuclear', 'deal', 'reached', 'with', 'eu'], 'category': 'World'}\n"
          ],
          "name": "stdout"
        }
      ]
    },
    {
      "cell_type": "markdown",
      "metadata": {
        "id": "8L2qMocP07Cm",
        "colab_type": "text"
      },
      "source": [
        "# Build Vocabulary and Word Vectors using the Datasets Created\n",
        "\n",
        "Volcabulary is list of unique Tokens in the text data. We will map each of the unique tokens to Word Vectors (or embeddings) using Glove Database"
      ]
    },
    {
      "cell_type": "code",
      "metadata": {
        "id": "QsEcoWUkp_Fl",
        "colab_type": "code",
        "outputId": "1f6b41f6-6f7a-4e4f-ee13-f375276507bd",
        "colab": {
          "base_uri": "https://localhost:8080/",
          "height": 51
        }
      },
      "source": [
        " %%time\n",
        "MAX_VOCAB_SIZE = 25000\n",
        "#vec = vocab.Vectors('glove.6B.100d.txt', 'D:/qBots/nlptc/glove_embedding/')\n",
        "Field_TEXT.build_vocab(Dataset_train,Dataset_val,\n",
        "                  max_size = MAX_VOCAB_SIZE, \n",
        "                  vectors = \"glove.6B.100d\", \n",
        "##                vectors = vec,\n",
        "                  unk_init = torch.Tensor.normal_)\n",
        "Field_LABEL.build_vocab(Dataset_train)\n"
      ],
      "execution_count": 0,
      "outputs": [
        {
          "output_type": "stream",
          "text": [
            "CPU times: user 843 ms, sys: 141 ms, total: 984 ms\n",
            "Wall time: 986 ms\n"
          ],
          "name": "stdout"
        }
      ]
    },
    {
      "cell_type": "code",
      "metadata": {
        "id": "ZRIuJlJ4qJIE",
        "colab_type": "code",
        "outputId": "e5c5a2a4-ef46-4ccc-89a2-4a2ef7549d36",
        "colab": {
          "base_uri": "https://localhost:8080/",
          "height": 34
        }
      },
      "source": [
        "Field_TEXT.vocab.vectors.shape"
      ],
      "execution_count": 0,
      "outputs": [
        {
          "output_type": "execute_result",
          "data": {
            "text/plain": [
              "torch.Size([25002, 100])"
            ]
          },
          "metadata": {
            "tags": []
          },
          "execution_count": 13
        }
      ]
    },
    {
      "cell_type": "code",
      "metadata": {
        "id": "c03yZbbI1vIU",
        "colab_type": "code",
        "outputId": "766c4744-20e3-4733-b039-e2ae09fff05b",
        "colab": {
          "base_uri": "https://localhost:8080/",
          "height": 238
        }
      },
      "source": [
        "Field_TEXT.vocab.vectors[Field_TEXT.vocab.stoi['testing']]"
      ],
      "execution_count": 0,
      "outputs": [
        {
          "output_type": "execute_result",
          "data": {
            "text/plain": [
              "tensor([ 0.1258,  0.2037, -0.1123,  0.3045, -0.9769, -0.5542,  0.4286,  0.7928,\n",
              "        -0.7157,  0.7587, -0.1077, -0.3529,  0.0333, -0.0764,  0.3469,  0.2451,\n",
              "         0.5385,  0.7100,  0.0522, -0.1323, -0.4734, -0.1800,  0.1982, -0.0651,\n",
              "        -0.4349,  0.4343, -0.0951, -0.3966, -0.4798,  0.4940, -0.3679,  0.2031,\n",
              "        -0.3497,  0.2970,  1.0122,  0.0933, -0.3492, -0.4592, -0.8168,  0.0374,\n",
              "        -0.8714, -0.1617, -0.0595, -0.4740, -0.3519,  0.2339,  0.4807, -0.6236,\n",
              "        -0.3462, -0.7426,  0.8620,  0.0581, -0.8875,  0.8843,  0.0444, -1.3311,\n",
              "        -0.7529,  0.0039,  1.9239, -0.0039,  0.2040,  0.3463,  0.9224,  0.5198,\n",
              "         0.4460,  0.6641, -0.2858, -0.2286,  0.1590,  0.1543, -0.0106,  0.5443,\n",
              "        -0.1647,  0.2509, -0.1672,  0.4843,  0.4626, -0.4024, -1.2572, -0.2214,\n",
              "         0.6287, -0.2696, -0.5828,  0.2838, -1.7209,  0.6726,  0.8789,  0.3482,\n",
              "        -0.9895,  0.4533, -0.5951,  0.0075,  0.0057,  0.5793,  0.6368,  0.5939,\n",
              "        -0.1434, -0.2136,  0.4768,  0.3917])"
            ]
          },
          "metadata": {
            "tags": []
          },
          "execution_count": 14
        }
      ]
    },
    {
      "cell_type": "code",
      "metadata": {
        "id": "rqp1kuqL11Y8",
        "colab_type": "code",
        "outputId": "681b4f1b-fe8c-4cab-bebe-69df7d72ef1b",
        "colab": {
          "base_uri": "https://localhost:8080/",
          "height": 34
        }
      },
      "source": [
        "print(Field_LABEL.vocab.stoi)"
      ],
      "execution_count": 0,
      "outputs": [
        {
          "output_type": "stream",
          "text": [
            "defaultdict(<function _default_unk_index at 0x7ffa7a1a8f28>, {'Sci/Tech': 0, 'World': 1, 'Business': 2, 'Sports': 3})\n"
          ],
          "name": "stdout"
        }
      ]
    },
    {
      "cell_type": "code",
      "metadata": {
        "id": "j6OesrOzcgSH",
        "colab_type": "code",
        "colab": {}
      },
      "source": [
        "embeddings = Field_TEXT.vocab.vectors.numpy()\n"
      ],
      "execution_count": 0,
      "outputs": []
    },
    {
      "cell_type": "code",
      "metadata": {
        "id": "hCbQTOvpv9B-",
        "colab_type": "code",
        "colab": {}
      },
      "source": [
        ""
      ],
      "execution_count": 0,
      "outputs": []
    },
    {
      "cell_type": "markdown",
      "metadata": {
        "id": "F2dwz4TJ19yg",
        "colab_type": "text"
      },
      "source": [
        "# Create the Torchtext Batches as wrapper around Dataset_train/val/test for iterating over during Training/Validation/Testng"
      ]
    },
    {
      "cell_type": "code",
      "metadata": {
        "id": "b6eIY6Q4qO1W",
        "colab_type": "code",
        "outputId": "199d09b1-7e04-4be2-df97-1bbaa1b3bf98",
        "colab": {
          "base_uri": "https://localhost:8080/",
          "height": 34
        }
      },
      "source": [
        "BATCH_SIZE = 3\n",
        "device = torch.device('cuda' if torch.cuda.is_available() else 'cpu')\n",
        "\n",
        "Batches_train, Batches_val, Batches_test = data.BucketIterator.splits(\n",
        "    (Dataset_train, Dataset_val,Dataset_test), \n",
        "    batch_size = args.batch_size,\n",
        "    sort_key=lambda x: len(x.text), \n",
        "    sort_within_batch=True, \n",
        "    device = device)\n",
        "\n",
        "print(\"***** Number of Train and Validation batches are :\",len(Batches_train), len(Batches_val))\n"
      ],
      "execution_count": 0,
      "outputs": [
        {
          "output_type": "stream",
          "text": [
            "***** Number of Train and Validation batches are : 1055 352\n"
          ],
          "name": "stdout"
        }
      ]
    },
    {
      "cell_type": "code",
      "metadata": {
        "id": "KkJsUN50qS16",
        "colab_type": "code",
        "colab": {}
      },
      "source": [
        "batch = next(iter(Batches_train))"
      ],
      "execution_count": 0,
      "outputs": []
    },
    {
      "cell_type": "code",
      "metadata": {
        "id": "xJzEsYpA-VZd",
        "colab_type": "code",
        "outputId": "7cb83921-dac8-43a8-bdb0-23a01df546eb",
        "colab": {
          "base_uri": "https://localhost:8080/",
          "height": 34
        }
      },
      "source": [
        "batch.category.shape"
      ],
      "execution_count": 0,
      "outputs": [
        {
          "output_type": "execute_result",
          "data": {
            "text/plain": [
              "torch.Size([64])"
            ]
          },
          "metadata": {
            "tags": []
          },
          "execution_count": 19
        }
      ]
    },
    {
      "cell_type": "code",
      "metadata": {
        "id": "49lYv3H9cIcz",
        "colab_type": "code",
        "outputId": "50ec007f-7557-42e3-fce1-1950426af749",
        "colab": {
          "base_uri": "https://localhost:8080/",
          "height": 34
        }
      },
      "source": [
        "batch.text.shape"
      ],
      "execution_count": 0,
      "outputs": [
        {
          "output_type": "execute_result",
          "data": {
            "text/plain": [
              "torch.Size([64, 256])"
            ]
          },
          "metadata": {
            "tags": []
          },
          "execution_count": 20
        }
      ]
    },
    {
      "cell_type": "code",
      "metadata": {
        "id": "e5-xAc27bz20",
        "colab_type": "code",
        "colab": {}
      },
      "source": [
        "def idxtosent(batch, idx):\n",
        "    return ' '.join([Field_TEXT.vocab.itos[i] for i in batch.text[idx,:].cpu().data.numpy()])"
      ],
      "execution_count": 0,
      "outputs": []
    },
    {
      "cell_type": "code",
      "metadata": {
        "id": "a_U9Xr0mb0yx",
        "colab_type": "code",
        "outputId": "99d0e792-a765-4f8b-93a4-747ca1c1e26c",
        "colab": {
          "base_uri": "https://localhost:8080/",
          "height": 71
        }
      },
      "source": [
        "for i in range(2):\n",
        "  print(idxtosent(batch,i))"
      ],
      "execution_count": 0,
      "outputs": [
        {
          "output_type": "stream",
          "text": [
            "ferdinand can benefit from winds of change <pad> <pad> <pad> <pad> <pad> <pad> <pad> <pad> <pad> <pad> <pad> <pad> <pad> <pad> <pad> <pad> <pad> <pad> <pad> <pad> <pad> <pad> <pad> <pad> <pad> <pad> <pad> <pad> <pad> <pad> <pad> <pad> <pad> <pad> <pad> <pad> <pad> <pad> <pad> <pad> <pad> <pad> <pad> <pad> <pad> <pad> <pad> <pad> <pad> <pad> <pad> <pad> <pad> <pad> <pad> <pad> <pad> <pad> <pad> <pad> <pad> <pad> <pad> <pad> <pad> <pad> <pad> <pad> <pad> <pad> <pad> <pad> <pad> <pad> <pad> <pad> <pad> <pad> <pad> <pad> <pad> <pad> <pad> <pad> <pad> <pad> <pad> <pad> <pad> <pad> <pad> <pad> <pad> <pad> <pad> <pad> <pad> <pad> <pad> <pad> <pad> <pad> <pad> <pad> <pad> <pad> <pad> <pad> <pad> <pad> <pad> <pad> <pad> <pad> <pad> <pad> <pad> <pad> <pad> <pad> <pad> <pad> <pad> <pad> <pad> <pad> <pad> <pad> <pad> <pad> <pad> <pad> <pad> <pad> <pad> <pad> <pad> <pad> <pad> <pad> <pad> <pad> <pad> <pad> <pad> <pad> <pad> <pad> <pad> <pad> <pad> <pad> <pad> <pad> <pad> <pad> <pad> <pad> <pad> <pad> <pad> <pad> <pad> <pad> <pad> <pad> <pad> <pad> <pad> <pad> <pad> <pad> <pad> <pad> <pad> <pad> <pad> <pad> <pad> <pad> <pad> <pad> <pad> <pad> <pad> <pad> <pad> <pad> <pad> <pad> <pad> <pad> <pad> <pad> <pad> <pad> <pad> <pad> <pad> <pad> <pad> <pad> <pad> <pad> <pad> <pad> <pad> <pad> <pad> <pad> <pad> <pad> <pad> <pad> <pad> <pad> <pad> <pad> <pad> <pad> <pad> <pad> <pad> <pad> <pad> <pad> <pad> <pad> <pad> <pad> <pad> <pad> <pad> <pad> <pad> <pad> <pad> <pad> <pad> <pad> <pad> <pad> <pad> <pad> <pad> <pad> <pad> <pad> <pad>\n",
            "news shifting cyber threats menace factory floors <pad> <pad> <pad> <pad> <pad> <pad> <pad> <pad> <pad> <pad> <pad> <pad> <pad> <pad> <pad> <pad> <pad> <pad> <pad> <pad> <pad> <pad> <pad> <pad> <pad> <pad> <pad> <pad> <pad> <pad> <pad> <pad> <pad> <pad> <pad> <pad> <pad> <pad> <pad> <pad> <pad> <pad> <pad> <pad> <pad> <pad> <pad> <pad> <pad> <pad> <pad> <pad> <pad> <pad> <pad> <pad> <pad> <pad> <pad> <pad> <pad> <pad> <pad> <pad> <pad> <pad> <pad> <pad> <pad> <pad> <pad> <pad> <pad> <pad> <pad> <pad> <pad> <pad> <pad> <pad> <pad> <pad> <pad> <pad> <pad> <pad> <pad> <pad> <pad> <pad> <pad> <pad> <pad> <pad> <pad> <pad> <pad> <pad> <pad> <pad> <pad> <pad> <pad> <pad> <pad> <pad> <pad> <pad> <pad> <pad> <pad> <pad> <pad> <pad> <pad> <pad> <pad> <pad> <pad> <pad> <pad> <pad> <pad> <pad> <pad> <pad> <pad> <pad> <pad> <pad> <pad> <pad> <pad> <pad> <pad> <pad> <pad> <pad> <pad> <pad> <pad> <pad> <pad> <pad> <pad> <pad> <pad> <pad> <pad> <pad> <pad> <pad> <pad> <pad> <pad> <pad> <pad> <pad> <pad> <pad> <pad> <pad> <pad> <pad> <pad> <pad> <pad> <pad> <pad> <pad> <pad> <pad> <pad> <pad> <pad> <pad> <pad> <pad> <pad> <pad> <pad> <pad> <pad> <pad> <pad> <pad> <pad> <pad> <pad> <pad> <pad> <pad> <pad> <pad> <pad> <pad> <pad> <pad> <pad> <pad> <pad> <pad> <pad> <pad> <pad> <pad> <pad> <pad> <pad> <pad> <pad> <pad> <pad> <pad> <pad> <pad> <pad> <pad> <pad> <pad> <pad> <pad> <pad> <pad> <pad> <pad> <pad> <pad> <pad> <pad> <pad> <pad> <pad> <pad> <pad> <pad> <pad> <pad> <pad> <pad> <pad> <pad> <pad> <pad> <pad> <pad> <pad> <pad> <pad>\n"
          ],
          "name": "stdout"
        }
      ]
    },
    {
      "cell_type": "markdown",
      "metadata": {
        "id": "aXauuKqj3wgt",
        "colab_type": "text"
      },
      "source": [
        "# Build a Neural Network (Simple Word CNN)"
      ]
    },
    {
      "cell_type": "code",
      "metadata": {
        "id": "ypNBz4FprsWz",
        "colab_type": "code",
        "colab": {}
      },
      "source": [
        "from nlptc.models import *"
      ],
      "execution_count": 0,
      "outputs": []
    },
    {
      "cell_type": "code",
      "metadata": {
        "id": "pavGzAhmueTJ",
        "colab_type": "code",
        "outputId": "bde64d32-e175-4414-a039-f3f2d86a5cd4",
        "colab": {
          "base_uri": "https://localhost:8080/",
          "height": 34
        }
      },
      "source": [
        "embeddings = Field_TEXT.vocab.vectors.numpy()\n",
        "type(embeddings)"
      ],
      "execution_count": 0,
      "outputs": [
        {
          "output_type": "execute_result",
          "data": {
            "text/plain": [
              "numpy.ndarray"
            ]
          },
          "metadata": {
            "tags": []
          },
          "execution_count": 24
        }
      ]
    },
    {
      "cell_type": "code",
      "metadata": {
        "id": "3k7DiAfEvDPX",
        "colab_type": "code",
        "colab": {}
      },
      "source": [
        "classifier = WordCNN_Simple(embedding_size=args.embedding_size,\n",
        "                                    num_embeddings=len(Field_TEXT.vocab),\n",
        "                                    num_channels=args.num_channels,\n",
        "                                    hidden_dim=args.hidden_dim,\n",
        "                                    num_classes=len(Field_LABEL.vocab),\n",
        "                                    dropout_p=args.dropout_p,\n",
        "                                    pretrained_embeddings=embeddings,\n",
        "                                    padding_idx=0)"
      ],
      "execution_count": 0,
      "outputs": []
    },
    {
      "cell_type": "code",
      "metadata": {
        "id": "ZgluFDpo4XC3",
        "colab_type": "code",
        "outputId": "10dffd63-ed0b-41b7-a874-c77b570615a7",
        "colab": {
          "base_uri": "https://localhost:8080/",
          "height": 34
        }
      },
      "source": [
        "classifier = classifier.to(args.device)\n",
        "loss_func = nn.CrossEntropyLoss()\n",
        "optimizer = optim.Adam(classifier.parameters(), lr=args.learning_rate)\n",
        "scheduler = optim.lr_scheduler.ReduceLROnPlateau(optimizer=optimizer,\n",
        "                                                  mode='min', factor=0.5,\n",
        "                                                  patience=1)\n",
        "print(\"------- # of Parameters ---->: \", sum(p.numel() for p in classifier.parameters() if p.requires_grad))\n"
      ],
      "execution_count": 0,
      "outputs": [
        {
          "output_type": "stream",
          "text": [
            "------- # of Parameters ---->:  2631104\n"
          ],
          "name": "stdout"
        }
      ]
    },
    {
      "cell_type": "code",
      "metadata": {
        "id": "5AB60HS5mzgD",
        "colab_type": "code",
        "outputId": "b71447bb-8180-46bf-b872-4a0a513d84b1",
        "colab": {
          "base_uri": "https://localhost:8080/",
          "height": 1000
        }
      },
      "source": [
        "results = build_model(args,dataset,classifier,Batches_train,Batches_val,Batches_test,loss_func,optimizer,scheduler)\n"
      ],
      "execution_count": 0,
      "outputs": [
        {
          "output_type": "stream",
          "text": [
            "--------------------- @epoch  0 ---------------------\n",
            "  training loss/accuracy 1.31366 / 30.03\n",
            "validation loss/accuracy 0.75858 / 65.14\n",
            "--------------------- @epoch  1 ---------------------\n",
            "  training loss/accuracy 0.46791 / 83.75\n",
            "validation loss/accuracy 0.36082 / 87.76\n",
            "--------------------- @epoch  2 ---------------------\n",
            "  training loss/accuracy 0.32668 / 89.06\n",
            "validation loss/accuracy 0.29138 / 90.25\n",
            "--------------------- @epoch  3 ---------------------\n",
            "  training loss/accuracy 0.27005 / 91.06\n",
            "validation loss/accuracy 0.24432 / 92.01\n",
            "--------------------- @epoch  4 ---------------------\n",
            "  training loss/accuracy 0.22917 / 92.43\n",
            "validation loss/accuracy 0.21036 / 93.08\n",
            "--------------------- @epoch  5 ---------------------\n",
            "  training loss/accuracy 0.19367 / 93.50\n",
            "validation loss/accuracy 0.17892 / 94.05\n",
            "--------------------- @epoch  6 ---------------------\n",
            "  training loss/accuracy 0.16195 / 94.50\n",
            "validation loss/accuracy 0.15216 / 94.79\n",
            "--------------------- @epoch  7 ---------------------\n",
            "  training loss/accuracy 0.13623 / 95.26\n",
            "validation loss/accuracy 0.13003 / 95.53\n",
            "--------------------- @epoch  8 ---------------------\n",
            "  training loss/accuracy 0.11419 / 96.06\n",
            "validation loss/accuracy 0.11427 / 96.03\n",
            "--------------------- @epoch  9 ---------------------\n",
            "  training loss/accuracy 0.09836 / 96.58\n",
            "validation loss/accuracy 0.09463 / 96.67\n",
            "--------------------- @epoch  10 ---------------------\n",
            "  training loss/accuracy 0.08117 / 97.17\n",
            "validation loss/accuracy 0.08244 / 97.10\n",
            "--------------------- @epoch  11 ---------------------\n",
            "  training loss/accuracy 0.07129 / 97.50\n",
            "validation loss/accuracy 0.07118 / 97.40\n",
            "--------------------- @epoch  12 ---------------------\n",
            "  training loss/accuracy 0.06237 / 97.79\n",
            "validation loss/accuracy 0.06379 / 97.60\n",
            "--------------------- @epoch  13 ---------------------\n",
            "  training loss/accuracy 0.05224 / 98.11\n",
            "validation loss/accuracy 0.05471 / 97.86\n",
            "--------------------- @epoch  14 ---------------------\n",
            "  training loss/accuracy 0.04767 / 98.29\n",
            "validation loss/accuracy 0.05208 / 97.97\n",
            "--------------------- @epoch  15 ---------------------\n",
            "  training loss/accuracy 0.04288 / 98.35\n",
            "validation loss/accuracy 0.04520 / 98.10\n",
            "--------------------- @epoch  16 ---------------------\n",
            "  training loss/accuracy 0.03986 / 98.54\n",
            "validation loss/accuracy 0.04078 / 98.31\n",
            "--------------------- @epoch  17 ---------------------\n",
            "  training loss/accuracy 0.03611 / 98.64\n",
            "validation loss/accuracy 0.03835 / 98.44\n",
            "--------------------- @epoch  18 ---------------------\n",
            "  training loss/accuracy 0.03293 / 98.74\n",
            "validation loss/accuracy 0.03520 / 98.50\n",
            "--------------------- @epoch  19 ---------------------\n",
            "  training loss/accuracy 0.03068 / 98.84\n",
            "validation loss/accuracy 0.03353 / 98.62\n",
            "Test loss: 0.170\n",
            "Test Accuracy: 95.21\n"
          ],
          "name": "stdout"
        }
      ]
    },
    {
      "cell_type": "code",
      "metadata": {
        "id": "Jrz_wRzQ5S3A",
        "colab_type": "code",
        "outputId": "6423cbc6-8a6a-4021-bd6a-6b12a5117fde",
        "colab": {
          "base_uri": "https://localhost:8080/",
          "height": 282
        }
      },
      "source": [
        "import matplotlib.pyplot as plt\n",
        "plt.plot(results['train_loss'])\n",
        "plt.plot(results['val_loss'])\n",
        "plt.plot((0,20),(results['test_loss'],results['test_loss']))\n",
        "\n",
        "plt.legend(['training loss', 'validation loss','test loss'])"
      ],
      "execution_count": 0,
      "outputs": [
        {
          "output_type": "execute_result",
          "data": {
            "text/plain": [
              "<matplotlib.legend.Legend at 0x7ffa705b2940>"
            ]
          },
          "metadata": {
            "tags": []
          },
          "execution_count": 42
        },
        {
          "output_type": "display_data",
          "data": {
            "image/png": "[encoded data removed]",
            "text/plain": [
              "<Figure size 432x288 with 1 Axes>"
            ]
          },
          "metadata": {
            "tags": [],
            "needs_background": "light"
          }
        }
      ]
    },
    {
      "cell_type": "code",
      "metadata": {
        "id": "aqWrKPPYBdad",
        "colab_type": "code",
        "outputId": "8b277875-7de3-4320-b54f-202a81b70ad1",
        "colab": {
          "base_uri": "https://localhost:8080/",
          "height": 282
        }
      },
      "source": [
        "plt.plot(results['train_acc'])\n",
        "plt.plot(results['val_acc'])\n",
        "plt.plot((0,20),(results['test_acc'],results['test_acc']))\n",
        "plt.legend(['training accuracy', 'validation accuracy','test Accuracy'])\n"
      ],
      "execution_count": 0,
      "outputs": [
        {
          "output_type": "execute_result",
          "data": {
            "text/plain": [
              "<matplotlib.legend.Legend at 0x7ffa7052c160>"
            ]
          },
          "metadata": {
            "tags": []
          },
          "execution_count": 43
        },
        {
          "output_type": "display_data",
          "data": {
            "image/png": "[encoded data removed]",
            "text/plain": [
              "<Figure size 432x288 with 1 Axes>"
            ]
          },
          "metadata": {
            "tags": [],
            "needs_background": "light"
          }
        }
      ]
    },
    {
      "cell_type": "code",
      "metadata": {
        "id": "JCEsqTX0EJgM",
        "colab_type": "code",
        "colab": {}
      },
      "source": [
        ""
      ],
      "execution_count": 0,
      "outputs": []
    },
    {
      "cell_type": "markdown",
      "metadata": {
        "id": "b7AIOSFfEFE4",
        "colab_type": "text"
      },
      "source": [
        "# *****************   End of NoteBook *****************"
      ]
    }
  ]
}